{
 "cells": [
  {
   "cell_type": "code",
   "execution_count": 5,
   "metadata": {},
   "outputs": [
    {
     "name": "stdout",
     "output_type": "stream",
     "text": [
      "Hello CP BootCamp\n"
     ]
    }
   ],
   "source": [
    "print('Hello CP BootCamp')"
   ]
  },
  {
   "cell_type": "markdown",
   "metadata": {},
   "source": [
    "# This is our first markdown heading\n",
    "\n",
    "## This is a smaller heading\n",
    "\n",
    "Here is an example of \"markdown\"\n",
    "\n",
    "- markdown is a pseudo-language\n",
    "- its useful for formatting text\n",
    "\n",
    "you can use codeblocks in markdown\n"
   ]
  },
  {
   "cell_type": "code",
   "execution_count": 6,
   "metadata": {},
   "outputs": [
    {
     "name": "stdout",
     "output_type": "stream",
     "text": [
      "Hello CP Bootcamp\n"
     ]
    }
   ],
   "source": [
    "# set a boolean variable\n",
    "\n",
    "bootcamp = True\n",
    "\n",
    "# these store the answers to yes/no questions\n",
    "\n",
    "hello = \"Hello\"\n",
    "\n",
    "if bootcamp:\n",
    "    print(hello + ' CP Bootcamp')\n",
    "else:\n",
    "    print(hello + ' World')"
   ]
  },
  {
   "cell_type": "code",
   "execution_count": 7,
   "metadata": {},
   "outputs": [
    {
     "ename": "SyntaxError",
     "evalue": "invalid decimal literal (2393536843.py, line 1)",
     "output_type": "error",
     "traceback": [
      "\u001b[0;36m  Cell \u001b[0;32mIn[7], line 1\u001b[0;36m\u001b[0m\n\u001b[0;31m    1_variable_cannot_start_with_a_number = False\u001b[0m\n\u001b[0m     ^\u001b[0m\n\u001b[0;31mSyntaxError\u001b[0m\u001b[0;31m:\u001b[0m invalid decimal literal\n"
     ]
    }
   ],
   "source": [
    "1_variable_cannot_start_with_a_number = False"
   ]
  },
  {
   "cell_type": "code",
   "execution_count": null,
   "metadata": {},
   "outputs": [],
   "source": [
    "numbers_elsewhere_are_fine_1 = True"
   ]
  },
  {
   "cell_type": "code",
   "execution_count": null,
   "metadata": {},
   "outputs": [],
   "source": [
    "only_LETTERS_and_Numb3ers_and_underscores_allowed = True"
   ]
  },
  {
   "cell_type": "code",
   "execution_count": null,
   "metadata": {},
   "outputs": [
    {
     "name": "stdout",
     "output_type": "stream",
     "text": [
      "True\n",
      "False\n"
     ]
    }
   ],
   "source": [
    "# variables are case sensitive\n",
    "\n",
    "var = True\n",
    "Var = False\n",
    "print(var)\n",
    "print(Var)"
   ]
  },
  {
   "cell_type": "code",
   "execution_count": null,
   "metadata": {},
   "outputs": [
    {
     "name": "stdout",
     "output_type": "stream",
     "text": [
      "Hello and welcome to the CP Bootcamp at 75 ames\n"
     ]
    }
   ],
   "source": [
    "# we can add extra condidtions to if/else\n",
    "\n",
    "CP_binney = False\n",
    "\n",
    "if bootcamp and CP_binney:\n",
    "    print(hello + ' and welcome to the CP Bootcamp at 300 Binney!')\n",
    "elif bootcamp and not CP_binney:\n",
    "    print(hello + ' and welcome to the CP Bootcamp at 75 ames')\n",
    "#elif whatever_else:\n",
    "    #if another_condition:\n",
    "        #ad infinitum\n",
    "else:\n",
    "    print(hello + ' World')"
   ]
  },
  {
   "cell_type": "code",
   "execution_count": null,
   "metadata": {},
   "outputs": [
    {
     "name": "stdout",
     "output_type": "stream",
     "text": [
      "Hello and welcome to the CP bootcamp at 300 binney!\n",
      "Hello and welcome to the CP bootcamp at 415 main!\n",
      "Hello and welcome to the CP bootcamp at 75 ames!\n"
     ]
    }
   ],
   "source": [
    "# let's look at loops\n",
    "\n",
    "locations = ['300 binney','415 main','75 ames']\n",
    "\n",
    "for location in locations:\n",
    "    print(hello + ' and welcome to the CP bootcamp at '+location+'!')"
   ]
  },
  {
   "cell_type": "code",
   "execution_count": null,
   "metadata": {},
   "outputs": [
    {
     "name": "stdout",
     "output_type": "stream",
     "text": [
      "Hello world\n",
      "HelloCP bootcamp, from Lauren\n",
      "HelloCP bootcamp, from David\n"
     ]
    }
   ],
   "source": [
    "# first function\n",
    "def say_hello(greetee,greeter=None):\n",
    "    '''\n",
    "    this is called a docstring used for annotation\n",
    "    '''\n",
    "    \n",
    "    greeting = \"Hello\" + greetee\n",
    "    if greeter:\n",
    "        greeting += ', from' +greeter\n",
    "    print(greeting)\n",
    "\n",
    "say_hello(' world')\n",
    "say_hello('CP bootcamp', ' Lauren')\n",
    "say_hello('CP bootcamp', ' David')"
   ]
  },
  {
   "cell_type": "code",
   "execution_count": null,
   "metadata": {},
   "outputs": [],
   "source": [
    "for element in collection:\n",
    "    operation(element) = operate(element)"
   ]
  },
  {
   "cell_type": "code",
   "execution_count": null,
   "metadata": {},
   "outputs": [
    {
     "name": "stdout",
     "output_type": "stream",
     "text": [
      "0.2\n"
     ]
    }
   ],
   "source": [
    "a = 1\n",
    "# a = a/5\n",
    "a /= 5\n",
    "print(a)"
   ]
  },
  {
   "cell_type": "code",
   "execution_count": null,
   "metadata": {},
   "outputs": [
    {
     "name": "stdout",
     "output_type": "stream",
     "text": [
      "Current tally:  0\n",
      "Next tally increment:  5\n",
      "Current tally:  5\n",
      "Next tally increment:  4\n",
      "Current tally:  9\n",
      "Next tally increment:  4\n",
      "Current tally:  13\n",
      "Next tally increment:  5\n",
      "Current tally:  18\n",
      "Next tally increment:  4\n",
      "Current tally:  22\n",
      "Next tally increment:  1\n",
      "Current tally:  23\n",
      "Next tally increment:  2\n",
      "Current tally:  25\n",
      "Next tally increment:  1\n",
      "Current tally:  26\n",
      "Next tally increment:  5\n",
      "Current tally:  31\n",
      "Next tally increment:  3\n",
      "Current tally:  34\n",
      "Next tally increment:  2\n",
      "Current tally:  36\n",
      "Next tally increment:  2\n",
      "Current tally:  38\n",
      "Next tally increment:  0\n",
      "Current tally:  38\n",
      "Next tally increment:  3\n",
      "Current tally:  41\n",
      "Next tally increment:  3\n",
      "Current tally:  44\n",
      "Next tally increment:  5\n",
      "Current tally:  49\n",
      "Next tally increment:  1\n",
      "final tally:  50\n"
     ]
    }
   ],
   "source": [
    "# \"while\" loops allow for additional flexibility by looping until a condition is met\n",
    "\n",
    "import random\n",
    "tally = 0\n",
    "\n",
    "while tally < 50:\n",
    "    print('Current tally: ', tally)\n",
    "    increment = random.randint(0,5)\n",
    "    print(\"Next tally increment: \", increment)\n",
    "    tally += increment\n",
    "\n",
    "print(\"final tally: \", tally)"
   ]
  },
  {
   "cell_type": "markdown",
   "metadata": {},
   "source": [
    "# Numerical datatypes and other packages\n",
    "\n",
    "## datatypes"
   ]
  },
  {
   "cell_type": "code",
   "execution_count": null,
   "metadata": {},
   "outputs": [
    {
     "name": "stdout",
     "output_type": "stream",
     "text": [
      "this is a  <class 'int'> with value:  4\n",
      "this is a  <class 'float'> with value:  4.0\n"
     ]
    }
   ],
   "source": [
    "# numbers\n",
    "\n",
    "my_int = 4\n",
    "my_float = 4.0\n",
    "print('this is a ', type(my_int), \"with value: \",my_int)\n",
    "print('this is a ', type(my_float), \"with value: \",my_float)"
   ]
  },
  {
   "cell_type": "code",
   "execution_count": null,
   "metadata": {},
   "outputs": [
    {
     "name": "stdout",
     "output_type": "stream",
     "text": [
      "2\n",
      "10\n",
      "7\n",
      "4\n",
      "100\n",
      "0.01\n"
     ]
    }
   ],
   "source": [
    "print (1+1)\n",
    "print(2*5)\n",
    "\n",
    "print(2*5-3)\n",
    "print(2*(5-3))\n",
    "\n",
    "#exponentiation works with 2 asterisks\n",
    "print(10**2)\n",
    "# it also works with negative exponents\n",
    "print(10**-2)"
   ]
  },
  {
   "cell_type": "code",
   "execution_count": null,
   "metadata": {},
   "outputs": [
    {
     "name": "stdout",
     "output_type": "stream",
     "text": [
      "False\n",
      "True\n"
     ]
    }
   ],
   "source": [
    "# warning: be careful when checking equality with floats\n",
    "# second thought: don't do this\n",
    "print(0.1 + 0.2 == 0.3)\n",
    "print(0.1 + 0.3 == 0.2 + 0.2)"
   ]
  },
  {
   "cell_type": "code",
   "execution_count": null,
   "metadata": {},
   "outputs": [
    {
     "data": {
      "text/plain": [
       "5.551115123125783e-17"
      ]
     },
     "execution_count": 4,
     "metadata": {},
     "output_type": "execute_result"
    }
   ],
   "source": [
    "0.1 + 0.2 - 0.3"
   ]
  },
  {
   "cell_type": "code",
   "execution_count": null,
   "metadata": {},
   "outputs": [
    {
     "name": "stdout",
     "output_type": "stream",
     "text": [
      "False\n",
      "True\n"
     ]
    }
   ],
   "source": [
    "# For safety, specify a tolerance\n",
    "\n",
    "tol = 10**-10\n",
    "\n",
    "print(0.1 + 0.2 - 0.3 == 0)\n",
    "print(0.1 + 0.2 - 0.3 < tol)"
   ]
  },
  {
   "cell_type": "code",
   "execution_count": null,
   "metadata": {},
   "outputs": [
    {
     "name": "stdout",
     "output_type": "stream",
     "text": [
      "thisisastring\n"
     ]
    }
   ],
   "source": [
    "print('this' + 'is' + 'a' + 'string')"
   ]
  },
  {
   "cell_type": "code",
   "execution_count": null,
   "metadata": {},
   "outputs": [],
   "source": [
    "s = \"this is a string for slicing\""
   ]
  },
  {
   "cell_type": "code",
   "execution_count": null,
   "metadata": {},
   "outputs": [
    {
     "name": "stdout",
     "output_type": "stream",
     "text": [
      "i\n"
     ]
    }
   ],
   "source": [
    "print(s[5])"
   ]
  },
  {
   "cell_type": "code",
   "execution_count": null,
   "metadata": {},
   "outputs": [
    {
     "name": "stdout",
     "output_type": "stream",
     "text": [
      "this is a string\n"
     ]
    }
   ],
   "source": [
    "# slicing\n",
    "print(s[:16])"
   ]
  },
  {
   "cell_type": "code",
   "execution_count": null,
   "metadata": {},
   "outputs": [
    {
     "name": "stdout",
     "output_type": "stream",
     "text": [
      "['a', 1, 0.3, None, ['a', 'b']]\n"
     ]
    }
   ],
   "source": [
    "# lists\n",
    "# lists can contain any type of data in any combination\n",
    "\n",
    "l = ['a',1,0.3,None,['a','b']]\n",
    "print(l)"
   ]
  },
  {
   "cell_type": "code",
   "execution_count": null,
   "metadata": {},
   "outputs": [
    {
     "name": "stdout",
     "output_type": "stream",
     "text": [
      "[0, 1, 2, 3, 4, 5, 6, 7, 8, 9, 10, 11, 12, 13, 14, 15, 16, 17, 18, 19, 20, 21, 22, 23, 24, 25, 26, 27, 28, 29, 30, 31, 32, 33, 34, 35, 36, 37, 38, 39, 40, 41, 42, 43, 44, 45, 46, 47, 48, 49]\n"
     ]
    }
   ],
   "source": [
    "# python indexing is quite flexible\n",
    "nums = list(range(50))\n",
    "print(nums)"
   ]
  },
  {
   "cell_type": "code",
   "execution_count": null,
   "metadata": {},
   "outputs": [
    {
     "name": "stdout",
     "output_type": "stream",
     "text": [
      "0\n"
     ]
    }
   ],
   "source": [
    "print(nums[0])"
   ]
  },
  {
   "cell_type": "code",
   "execution_count": null,
   "metadata": {},
   "outputs": [
    {
     "name": "stdout",
     "output_type": "stream",
     "text": [
      "[0, 1, 2, 3, 4, 5, 6, 7, 8, 9]\n"
     ]
    }
   ],
   "source": [
    "print(nums[:10])"
   ]
  },
  {
   "cell_type": "code",
   "execution_count": null,
   "metadata": {},
   "outputs": [
    {
     "name": "stdout",
     "output_type": "stream",
     "text": [
      "[45, 46, 47, 48, 49]\n"
     ]
    }
   ],
   "source": [
    "print(nums[-5:])"
   ]
  },
  {
   "cell_type": "code",
   "execution_count": null,
   "metadata": {},
   "outputs": [
    {
     "name": "stdout",
     "output_type": "stream",
     "text": [
      "[5, 6, 7, 8, 9]\n"
     ]
    }
   ],
   "source": [
    "print(nums[5:10])"
   ]
  },
  {
   "cell_type": "code",
   "execution_count": null,
   "metadata": {},
   "outputs": [
    {
     "name": "stdout",
     "output_type": "stream",
     "text": [
      "[49, 48, 47, 46, 45, 44, 43, 42, 41, 40, 39, 38, 37, 36, 35, 34, 33, 32, 31, 30, 29, 28, 27, 26, 25, 24, 23, 22, 21, 20, 19, 18, 17, 16, 15, 14, 13, 12, 11, 10, 9, 8, 7, 6, 5, 4, 3, 2, 1, 0]\n"
     ]
    }
   ],
   "source": [
    "print(nums[::-1])"
   ]
  },
  {
   "cell_type": "code",
   "execution_count": null,
   "metadata": {},
   "outputs": [
    {
     "name": "stdout",
     "output_type": "stream",
     "text": [
      "[1, 4, 7, 10]\n"
     ]
    }
   ],
   "source": [
    "print(nums[1:12:3])"
   ]
  },
  {
   "cell_type": "code",
   "execution_count": null,
   "metadata": {},
   "outputs": [
    {
     "name": "stdout",
     "output_type": "stream",
     "text": [
      "[[4, 5, 6], [7, 8, 9], [10, 11, 12]]\n"
     ]
    }
   ],
   "source": [
    "# lists nest in the obvious way\n",
    "nested_list =[[1,2,3],[4,5,6],[7,8,9],[10,11,12],[13,14,15]]\n",
    "print(nested_list[1:4])"
   ]
  },
  {
   "cell_type": "code",
   "execution_count": null,
   "metadata": {},
   "outputs": [
    {
     "name": "stdout",
     "output_type": "stream",
     "text": [
      "[10, 11, 12]\n"
     ]
    }
   ],
   "source": [
    "print(nested_list[3])"
   ]
  },
  {
   "cell_type": "code",
   "execution_count": null,
   "metadata": {},
   "outputs": [
    {
     "name": "stdout",
     "output_type": "stream",
     "text": [
      "11\n"
     ]
    }
   ],
   "source": [
    "print(nested_list[3][1])"
   ]
  },
  {
   "cell_type": "code",
   "execution_count": null,
   "metadata": {},
   "outputs": [
    {
     "data": {
      "text/plain": [
       "[2, 5, 8, 11, 14]"
      ]
     },
     "execution_count": 23,
     "metadata": {},
     "output_type": "execute_result"
    }
   ],
   "source": [
    "[l[1] for l in nested_list]"
   ]
  },
  {
   "cell_type": "code",
   "execution_count": null,
   "metadata": {},
   "outputs": [
    {
     "name": "stdout",
     "output_type": "stream",
     "text": [
      "[1, 4, 7, 10, 13, 16, 19]\n",
      "[3, 8, 13, 18]\n",
      "[0, 1, 2, 3, 4, 5, 6, 7, 8, 9, 10, 11, 12, 13, 14, 15, 16, 17, 18, 19]\n"
     ]
    }
   ],
   "source": [
    "# % gives you the remainder of your division -- playing with this a bit for my own understanding\n",
    "\n",
    "print([i for i in range(20) if (i%3 == 1)]) # this shows the numbers for which when i is divided by 3, there is a remainder of 1\n",
    "\n",
    "print([i for i in range(20) if (i%5 == 3)]) # this shows the numbers for which when i is divided by 5, 3 is the remainder\n",
    "\n",
    "print([i for i in range(20) if (i%1 == 0)]) # this shows the numbers for which when i is divided by 1, 0 is the remainder (aka all of the numbers in the range)\n"
   ]
  },
  {
   "cell_type": "code",
   "execution_count": 5,
   "metadata": {},
   "outputs": [
    {
     "name": "stdout",
     "output_type": "stream",
     "text": [
      "[0, 2, 4, 6, 8, 10, 12, 14, 16, 18]\n"
     ]
    }
   ],
   "source": [
    "# % gives you the remainder of your division\n",
    "\n",
    "print([i for i in range(20) if (i%2 == 0)])"
   ]
  },
  {
   "cell_type": "code",
   "execution_count": null,
   "metadata": {},
   "outputs": [
    {
     "name": "stdout",
     "output_type": "stream",
     "text": [
      "[0, -1, 2, -3, 4, -5, 6, -7, 8, -9, 10, -11, 12, -13, 14, -15, 16, -17, 18, -19]\n"
     ]
    }
   ],
   "source": [
    "print([ i if (i%2 ==0) else -i for i in range(20)])"
   ]
  },
  {
   "cell_type": "code",
   "execution_count": null,
   "metadata": {},
   "outputs": [
    {
     "name": "stdout",
     "output_type": "stream",
     "text": [
      "[[1, 2, 3], [4, 5, 6], [7, 8, 9], [10, 11, 12], [13, 14, 15]]\n",
      "[[1, 2, 3], [4, 5, 6], [7, 8, 9], [10, 11, 12], 'oops!']\n"
     ]
    }
   ],
   "source": [
    "print(nested_list)\n",
    "nested_list[-1] = \"oops!\"\n",
    "print(nested_list)"
   ]
  },
  {
   "cell_type": "code",
   "execution_count": 2,
   "metadata": {},
   "outputs": [
    {
     "name": "stdout",
     "output_type": "stream",
     "text": [
      "[[0, 1], [2, 3], [4, 5], [6, 7], [8, 9], [10, 11], [12, 13], [14, 15], [16, 17], [18, 19]]\n"
     ]
    }
   ],
   "source": [
    "# be careful when dealing with the list elements\n",
    "new_test_list = [[i,i+1] for i in range(20) if (i%2 == 0)]\n",
    "print(new_test_list)"
   ]
  },
  {
   "cell_type": "code",
   "execution_count": 3,
   "metadata": {},
   "outputs": [
    {
     "name": "stdout",
     "output_type": "stream",
     "text": [
      "[10, 11]\n",
      "[[0, 1], [2, 3], [4, 5], [6, 7], [8, 9], ['oops', 11], [12, 13], [14, 15], [16, 17], [18, 19]]\n"
     ]
    }
   ],
   "source": [
    "print(new_test_list[5])\n",
    "test_element = new_test_list[5]\n",
    "test_element[0] = 'oops'\n",
    "print(new_test_list)"
   ]
  },
  {
   "cell_type": "code",
   "execution_count": null,
   "metadata": {},
   "outputs": [
    {
     "name": "stdout",
     "output_type": "stream",
     "text": [
      "[[0, 1], [2, 3], [4, 5], [6, 7], [8, 9], ['oops', 11], [12, 13], [14, 15], [16, 17], [18, 19]]\n"
     ]
    }
   ],
   "source": [
    "test_element_2 = [x for x in new_test_list[5]]\n",
    "\n",
    "test_element_2[1] = 'oops'\n",
    "print(new_test_list)"
   ]
  },
  {
   "cell_type": "code",
   "execution_count": null,
   "metadata": {},
   "outputs": [
    {
     "data": {
      "text/plain": [
       "['oops', 'oops']"
      ]
     },
     "execution_count": 32,
     "metadata": {},
     "output_type": "execute_result"
    }
   ],
   "source": [
    "test_element_2"
   ]
  },
  {
   "cell_type": "code",
   "execution_count": null,
   "metadata": {},
   "outputs": [
    {
     "name": "stdout",
     "output_type": "stream",
     "text": [
      "(0, 1, 2, 3, 4)\n"
     ]
    },
    {
     "ename": "TypeError",
     "evalue": "'tuple' object does not support item assignment",
     "output_type": "error",
     "traceback": [
      "\u001b[0;31m---------------------------------------------------------------------------\u001b[0m",
      "\u001b[0;31mTypeError\u001b[0m                                 Traceback (most recent call last)",
      "Cell \u001b[0;32mIn[34], line 4\u001b[0m\n\u001b[1;32m      2\u001b[0m test_tuple \u001b[38;5;241m=\u001b[39m \u001b[38;5;28mtuple\u001b[39m(\u001b[38;5;28mrange\u001b[39m(\u001b[38;5;241m5\u001b[39m))\n\u001b[1;32m      3\u001b[0m \u001b[38;5;28mprint\u001b[39m(test_tuple)\n\u001b[0;32m----> 4\u001b[0m \u001b[43mtest_tuple\u001b[49m\u001b[43m[\u001b[49m\u001b[38;5;241;43m2\u001b[39;49m\u001b[43m]\u001b[49m \u001b[38;5;241m=\u001b[39m \u001b[38;5;241m-\u001b[39m\u001b[38;5;241m1\u001b[39m\n",
      "\u001b[0;31mTypeError\u001b[0m: 'tuple' object does not support item assignment"
     ]
    }
   ],
   "source": [
    "# tuples are like lists but are immutable\n",
    "test_tuple = tuple(range(5))\n",
    "print(test_tuple)\n",
    "test_tuple[2] = -1"
   ]
  },
  {
   "cell_type": "code",
   "execution_count": null,
   "metadata": {},
   "outputs": [
    {
     "name": "stdout",
     "output_type": "stream",
     "text": [
      "(0, 10, 2)\n"
     ]
    }
   ],
   "source": [
    "# useful for indexing and function arguments\n",
    "function_args = (0,10,2)\n",
    "print(function_args)"
   ]
  },
  {
   "cell_type": "code",
   "execution_count": null,
   "metadata": {},
   "outputs": [
    {
     "name": "stdout",
     "output_type": "stream",
     "text": [
      "<class 'tuple'>\n"
     ]
    }
   ],
   "source": [
    "print(type(function_args))"
   ]
  },
  {
   "cell_type": "code",
   "execution_count": null,
   "metadata": {},
   "outputs": [
    {
     "name": "stdout",
     "output_type": "stream",
     "text": [
      "[0, 2, 4, 6, 8]\n"
     ]
    }
   ],
   "source": [
    "# tuples can be \"unrolled\" with the star operator into function args\n",
    "print(list(range(*function_args)))"
   ]
  },
  {
   "cell_type": "code",
   "execution_count": null,
   "metadata": {},
   "outputs": [
    {
     "name": "stdout",
     "output_type": "stream",
     "text": [
      "[0, 2, 4, 6, 8]\n"
     ]
    }
   ],
   "source": [
    "# range(start,stop,step) #this is the function that was used above for the tuple\n",
    "\n",
    "print(list(range(*[0,10,2])))"
   ]
  },
  {
   "cell_type": "code",
   "execution_count": null,
   "metadata": {},
   "outputs": [],
   "source": [
    "# dictionaries\n",
    "test_dict = dict()\n",
    "test_dict[(0,0)] = ['test']"
   ]
  },
  {
   "cell_type": "code",
   "execution_count": null,
   "metadata": {},
   "outputs": [
    {
     "data": {
      "text/plain": [
       "{(0, 0): ['test']}"
      ]
     },
     "execution_count": 41,
     "metadata": {},
     "output_type": "execute_result"
    }
   ],
   "source": [
    "test_dict"
   ]
  },
  {
   "cell_type": "code",
   "execution_count": null,
   "metadata": {},
   "outputs": [
    {
     "ename": "TypeError",
     "evalue": "unhashable type: 'list'",
     "output_type": "error",
     "traceback": [
      "\u001b[0;31m---------------------------------------------------------------------------\u001b[0m",
      "\u001b[0;31mTypeError\u001b[0m                                 Traceback (most recent call last)",
      "Cell \u001b[0;32mIn[42], line 2\u001b[0m\n\u001b[1;32m      1\u001b[0m \u001b[38;5;66;03m# try a mutable datatype like a list\u001b[39;00m\n\u001b[0;32m----> 2\u001b[0m \u001b[43mtest_dict\u001b[49m\u001b[43m[\u001b[49m\u001b[43m[\u001b[49m\u001b[38;5;241;43m1\u001b[39;49m\u001b[43m,\u001b[49m\u001b[38;5;241;43m2\u001b[39;49m\u001b[43m]\u001b[49m\u001b[43m]\u001b[49m \u001b[38;5;241m=\u001b[39m \u001b[38;5;124m'\u001b[39m\u001b[38;5;124mtest_failed\u001b[39m\u001b[38;5;124m'\u001b[39m\n",
      "\u001b[0;31mTypeError\u001b[0m: unhashable type: 'list'"
     ]
    }
   ],
   "source": [
    "# try a mutable datatype like a list\n",
    "test_dict[[1,2]] = 'test_failed'"
   ]
  },
  {
   "cell_type": "code",
   "execution_count": null,
   "metadata": {},
   "outputs": [
    {
     "name": "stdout",
     "output_type": "stream",
     "text": [
      "{(0, 0): 0, (0, 1): 0, (0, 2): 0, (0, 3): 0, (1, 0): 0, (1, 1): 1, (1, 2): 2, (1, 3): 3, (2, 0): 0, (2, 1): 2, (2, 2): 4, (2, 3): 6}\n"
     ]
    }
   ],
   "source": [
    "print({(a,b): a*b for a in range(3) for b in range(4)})"
   ]
  },
  {
   "cell_type": "markdown",
   "metadata": {},
   "source": [
    "## types associated with common packages"
   ]
  },
  {
   "cell_type": "code",
   "execution_count": null,
   "metadata": {},
   "outputs": [],
   "source": [
    "import numpy as np"
   ]
  },
  {
   "cell_type": "code",
   "execution_count": null,
   "metadata": {},
   "outputs": [
    {
     "name": "stdout",
     "output_type": "stream",
     "text": [
      "[1. 1. 1. ... 1. 1. 1.]\n",
      "[   0    1    2 ... 9997 9998 9999]\n",
      "5.72 μs ± 88.3 ns per loop (mean ± std. dev. of 7 runs, 100,000 loops each)\n"
     ]
    }
   ],
   "source": [
    "array_1 = np.ones(10**4)\n",
    "print(array_1)\n",
    "array_2 = np.arange(10**4)\n",
    "print(array_2)\n",
    "%timeit array_1+1.5*array_2"
   ]
  },
  {
   "cell_type": "code",
   "execution_count": null,
   "metadata": {},
   "outputs": [
    {
     "name": "stdout",
     "output_type": "stream",
     "text": [
      "340 μs ± 989 ns per loop (mean ± std. dev. of 7 runs, 1,000 loops each)\n"
     ]
    }
   ],
   "source": [
    "# let's try this with lists\n",
    "\n",
    "list_1 = [1]*10**4\n",
    "list_2 = list(range(10**4))\n",
    "%timeit [list_1[i] + 1.5*list_2[i] for i in range(10**4)]"
   ]
  }
 ],
 "metadata": {
  "kernelspec": {
   "display_name": "bootcamp",
   "language": "python",
   "name": "python3"
  },
  "language_info": {
   "codemirror_mode": {
    "name": "ipython",
    "version": 3
   },
   "file_extension": ".py",
   "mimetype": "text/x-python",
   "name": "python",
   "nbconvert_exporter": "python",
   "pygments_lexer": "ipython3",
   "version": "3.11.11"
  }
 },
 "nbformat": 4,
 "nbformat_minor": 2
}
