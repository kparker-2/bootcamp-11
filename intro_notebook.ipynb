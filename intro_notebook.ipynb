{
 "cells": [
  {
   "cell_type": "code",
   "execution_count": 14,
   "metadata": {},
   "outputs": [
    {
     "name": "stdout",
     "output_type": "stream",
     "text": [
      "Hello CP BootCamp\n"
     ]
    }
   ],
   "source": [
    "print('Hello CP BootCamp')"
   ]
  },
  {
   "cell_type": "markdown",
   "metadata": {},
   "source": [
    "# This is our first markdown heading\n",
    "\n",
    "## This is a smaller heading\n",
    "\n",
    "Here is an example of \"markdown\"\n",
    "\n",
    "- markdown is a pseudo-language\n",
    "- its useful for formatting text\n",
    "\n",
    "you can use codeblocks in markdown\n"
   ]
  },
  {
   "cell_type": "code",
   "execution_count": 15,
   "metadata": {},
   "outputs": [
    {
     "name": "stdout",
     "output_type": "stream",
     "text": [
      "Hello CP Bootcamp\n"
     ]
    }
   ],
   "source": [
    "# set a boolean variable\n",
    "\n",
    "bootcamp = True\n",
    "\n",
    "# these store the answers to yes/no questions\n",
    "\n",
    "hello = \"Hello\"\n",
    "\n",
    "if bootcamp:\n",
    "    print(hello + ' CP Bootcamp')\n",
    "else:\n",
    "    print(hello + ' World')"
   ]
  },
  {
   "cell_type": "code",
   "execution_count": 16,
   "metadata": {},
   "outputs": [
    {
     "ename": "SyntaxError",
     "evalue": "invalid decimal literal (2393536843.py, line 1)",
     "output_type": "error",
     "traceback": [
      "\u001b[0;36m  Cell \u001b[0;32mIn[16], line 1\u001b[0;36m\u001b[0m\n\u001b[0;31m    1_variable_cannot_start_with_a_number = False\u001b[0m\n\u001b[0m     ^\u001b[0m\n\u001b[0;31mSyntaxError\u001b[0m\u001b[0;31m:\u001b[0m invalid decimal literal\n"
     ]
    }
   ],
   "source": [
    "1_variable_cannot_start_with_a_number = False"
   ]
  },
  {
   "cell_type": "code",
   "execution_count": null,
   "metadata": {},
   "outputs": [],
   "source": [
    "numbers_elsewhere_are_fine_1 = True"
   ]
  },
  {
   "cell_type": "code",
   "execution_count": null,
   "metadata": {},
   "outputs": [],
   "source": [
    "only_LETTERS_and_Numb3ers_and_underscores_allowed = True"
   ]
  },
  {
   "cell_type": "code",
   "execution_count": null,
   "metadata": {},
   "outputs": [
    {
     "name": "stdout",
     "output_type": "stream",
     "text": [
      "True\n",
      "False\n"
     ]
    }
   ],
   "source": [
    "# variables are case sensitive\n",
    "\n",
    "var = True\n",
    "Var = False\n",
    "print(var)\n",
    "print(Var)"
   ]
  },
  {
   "cell_type": "code",
   "execution_count": null,
   "metadata": {},
   "outputs": [
    {
     "name": "stdout",
     "output_type": "stream",
     "text": [
      "Hello and welcome to the CP Bootcamp at 75 ames\n"
     ]
    }
   ],
   "source": [
    "# we can add extra condidtions to if/else\n",
    "\n",
    "CP_binney = False\n",
    "\n",
    "if bootcamp and CP_binney:\n",
    "    print(hello + ' and welcome to the CP Bootcamp at 300 Binney!')\n",
    "elif bootcamp and not CP_binney:\n",
    "    print(hello + ' and welcome to the CP Bootcamp at 75 ames')\n",
    "#elif whatever_else:\n",
    "    #if another_condition:\n",
    "        #ad infinitum\n",
    "else:\n",
    "    print(hello + ' World')"
   ]
  },
  {
   "cell_type": "code",
   "execution_count": 17,
   "metadata": {},
   "outputs": [
    {
     "name": "stdout",
     "output_type": "stream",
     "text": [
      "Hello and welcome to the CP bootcamp at 300 binney!\n",
      "Hello and welcome to the CP bootcamp at 415 main!\n",
      "Hello and welcome to the CP bootcamp at 75 ames!\n"
     ]
    }
   ],
   "source": [
    "# let's look at loops\n",
    "\n",
    "locations = ['300 binney','415 main','75 ames']\n",
    "\n",
    "for location in locations:\n",
    "    print(hello + ' and welcome to the CP bootcamp at '+location+'!')"
   ]
  },
  {
   "cell_type": "code",
   "execution_count": 20,
   "metadata": {},
   "outputs": [
    {
     "name": "stdout",
     "output_type": "stream",
     "text": [
      "Hello world\n",
      "HelloCP bootcamp, from Lauren\n",
      "HelloCP bootcamp, from David\n"
     ]
    }
   ],
   "source": [
    "# first function\n",
    "def say_hello(greetee,greeter=None):\n",
    "    greeting = \"Hello\" + greetee\n",
    "    if greeter:\n",
    "        greeting += ', from' +greeter\n",
    "    print(greeting)\n",
    "\n",
    "say_hello(' world')\n",
    "say_hello('CP bootcamp', ' Lauren')\n",
    "say_hello('CP bootcamp', ' David')"
   ]
  },
  {
   "cell_type": "code",
   "execution_count": null,
   "metadata": {},
   "outputs": [],
   "source": [
    "for element in collection:\n",
    "    operation(element) = operate(element)"
   ]
  },
  {
   "cell_type": "code",
   "execution_count": 21,
   "metadata": {},
   "outputs": [
    {
     "name": "stdout",
     "output_type": "stream",
     "text": [
      "0.2\n"
     ]
    }
   ],
   "source": [
    "a = 1\n",
    "a /= 5\n",
    "print(a)"
   ]
  },
  {
   "cell_type": "code",
   "execution_count": 22,
   "metadata": {},
   "outputs": [
    {
     "name": "stdout",
     "output_type": "stream",
     "text": [
      "Current tally:  0\n",
      "Next tally increment:  5\n",
      "Current tally:  5\n",
      "Next tally increment:  4\n",
      "Current tally:  9\n",
      "Next tally increment:  4\n",
      "Current tally:  13\n",
      "Next tally increment:  5\n",
      "Current tally:  18\n",
      "Next tally increment:  4\n",
      "Current tally:  22\n",
      "Next tally increment:  1\n",
      "Current tally:  23\n",
      "Next tally increment:  2\n",
      "Current tally:  25\n",
      "Next tally increment:  1\n",
      "Current tally:  26\n",
      "Next tally increment:  5\n",
      "Current tally:  31\n",
      "Next tally increment:  3\n",
      "Current tally:  34\n",
      "Next tally increment:  2\n",
      "Current tally:  36\n",
      "Next tally increment:  2\n",
      "Current tally:  38\n",
      "Next tally increment:  0\n",
      "Current tally:  38\n",
      "Next tally increment:  3\n",
      "Current tally:  41\n",
      "Next tally increment:  3\n",
      "Current tally:  44\n",
      "Next tally increment:  5\n",
      "Current tally:  49\n",
      "Next tally increment:  1\n",
      "final tally:  50\n"
     ]
    }
   ],
   "source": [
    "# \"while\" loops allow for additional flexibility by looping until a condition is met\n",
    "\n",
    "import random\n",
    "tally = 0\n",
    "\n",
    "while tally < 50:\n",
    "    print('Current tally: ', tally)\n",
    "    increment = random.randint(0,5)\n",
    "    print(\"Next tally increment: \", increment)\n",
    "    tally += increment\n",
    "\n",
    "print(\"final tally: \", tally)"
   ]
  }
 ],
 "metadata": {
  "kernelspec": {
   "display_name": "Python 3",
   "language": "python",
   "name": "python3"
  },
  "language_info": {
   "codemirror_mode": {
    "name": "ipython",
    "version": 3
   },
   "file_extension": ".py",
   "mimetype": "text/x-python",
   "name": "python",
   "nbconvert_exporter": "python",
   "pygments_lexer": "ipython3",
   "version": "3.8.1"
  }
 },
 "nbformat": 4,
 "nbformat_minor": 2
}
